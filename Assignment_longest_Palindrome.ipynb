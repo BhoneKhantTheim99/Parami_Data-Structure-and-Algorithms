{
 "cells": [
  {
   "cell_type": "code",
   "execution_count": 1,
   "metadata": {},
   "outputs": [
    {
     "name": "stdout",
     "output_type": "stream",
     "text": [
      "aba\n"
     ]
    }
   ],
   "source": [
    "#finding the longest Palindrome\n",
    "\n",
    "def palindrome (y):\n",
    "    if y == y[::-1]:\n",
    "        return True\n",
    "    else:\n",
    "        return False\n",
    "    \n",
    "def longest_palindrome(y):\n",
    "    max_len = 0\n",
    "    max_pal = \"\"\n",
    "\n",
    "    for i in range(len(y)):\n",
    "        for j in range(len(y)):\n",
    "            check = y[i:j+1]\n",
    "            if palindrome(check) and len(check) > max_len:\n",
    "                max_len = len(check)\n",
    "                max_pal = check\n",
    "    return max_pal\n",
    "\n",
    "h = 'ababd'\n",
    "longest = longest_palindrome(h)\n",
    "print(longest)"
   ]
  }
 ],
 "metadata": {
  "kernelspec": {
   "display_name": "Python 3",
   "language": "python",
   "name": "python3"
  },
  "language_info": {
   "codemirror_mode": {
    "name": "ipython",
    "version": 3
   },
   "file_extension": ".py",
   "mimetype": "text/x-python",
   "name": "python",
   "nbconvert_exporter": "python",
   "pygments_lexer": "ipython3",
   "version": "3.10.11"
  }
 },
 "nbformat": 4,
 "nbformat_minor": 2
}
