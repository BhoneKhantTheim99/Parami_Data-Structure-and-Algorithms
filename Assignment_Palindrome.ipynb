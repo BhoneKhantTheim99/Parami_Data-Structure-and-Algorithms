{
 "cells": [
  {
   "cell_type": "code",
   "execution_count": 62,
   "metadata": {},
   "outputs": [
    {
     "data": {
      "text/plain": [
       "'True'"
      ]
     },
     "execution_count": 62,
     "metadata": {},
     "output_type": "execute_result"
    }
   ],
   "source": [
    "def is_palindrome(palin):                   #function\n",
    "    palin = list(palin)                     #changing the str to list\n",
    "    x = []                                  #creating another list for comparison\n",
    "    for i in range(len(palin)):             #appending the value in list in BACKWARD\n",
    "        x.append(palin[-i - 1])\n",
    "      \n",
    "    if palin == x:                          #check if 'atae' and 'backward' are the same.\n",
    "        return 'True'\n",
    "    else:\n",
    "        return 'False'\n",
    "\n",
    "s = input('put something you want to check for palindrome: ') \n",
    "s = s.replace(' ', '').replace(':', '').replace(',','').lower()    #datacleaning\n",
    "is_palindrome(s)\n",
    "\n"
   ]
  }
 ],
 "metadata": {
  "kernelspec": {
   "display_name": "Python 3",
   "language": "python",
   "name": "python3"
  },
  "language_info": {
   "codemirror_mode": {
    "name": "ipython",
    "version": 3
   },
   "file_extension": ".py",
   "mimetype": "text/x-python",
   "name": "python",
   "nbconvert_exporter": "python",
   "pygments_lexer": "ipython3",
   "version": "3.10.11"
  }
 },
 "nbformat": 4,
 "nbformat_minor": 2
}
